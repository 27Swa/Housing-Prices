{
 "cells": [
  {
   "cell_type": "code",
   "execution_count": 3,
   "id": "662ad245-5b05-406b-b116-8944bc252815",
   "metadata": {},
   "outputs": [],
   "source": [
    "import numpy as np"
   ]
  },
  {
   "cell_type": "code",
   "execution_count": 8,
   "id": "bdc0270e-375d-4465-a12f-f494d72002c1",
   "metadata": {},
   "outputs": [],
   "source": [
    "def point_position_line(x1,x2,y1,y2):\n",
    "    res = (x1 * y2) - (y1 * x2)\n",
    "    if result < 0 :\n",
    "        return -1\n",
    "    elif result > 0:\n",
    "        return 1\n",
    "    else:\n",
    "        return 0"
   ]
  },
  {
   "cell_type": "markdown",
   "id": "91a5c365-d3e9-4808-aa2d-048a4a9ce756",
   "metadata": {},
   "source": [
    "### Simple trick"
   ]
  },
  {
   "cell_type": "code",
   "execution_count": 13,
   "id": "a6af8a65-4d30-4b9b-bb79-26e8d2f74e3e",
   "metadata": {},
   "outputs": [],
   "source": [
    "def simple_trick(slope,intercept,num_rooms,price):\n",
    "    predict_price = slope * num_rooms + intercept\n",
    "    in_coeff = np.random.uniform(low = 0,high = 1)\n",
    "    an_coeff = np.random.uniform(low = 0,high = 1)\n",
    "    pos = point_position_line(num_rooms,num_rooms,predict_price1,price)\n",
    "\n",
    "    # case 1\n",
    "    if result > 0 and price > 0:\n",
    "        intercept += in_coeff\n",
    "        slope += an_coeff\n",
    "    \n",
    "    # case 2\n",
    "    elif result > 0 and price < 0:\n",
    "        intercept += in_coeff\n",
    "        slope -= an_coeff\n",
    "    \n",
    "    # case 3\n",
    "    elif result < 0 and price > 0:\n",
    "        intercept -= in_coeff\n",
    "        slope -= an_coeff\n",
    "        \n",
    "    # case 4\n",
    "    elif  result < 0 and price < 0:\n",
    "        intercept -= in_coeff\n",
    "        slope += an_coeff    \n",
    "    \n",
    "    return slope * num_rooms + intercept"
   ]
  },
  {
   "cell_type": "code",
   "execution_count": null,
   "id": "ed14344a-454d-41d6-a4ca-caaeee8e9ca6",
   "metadata": {},
   "outputs": [],
   "source": [
    "def square_trick(m, b, rooms,price):\n",
    "    "
   ]
  }
 ],
 "metadata": {
  "kernelspec": {
   "display_name": "Python 3 (ipykernel)",
   "language": "python",
   "name": "python3"
  },
  "language_info": {
   "codemirror_mode": {
    "name": "ipython",
    "version": 3
   },
   "file_extension": ".py",
   "mimetype": "text/x-python",
   "name": "python",
   "nbconvert_exporter": "python",
   "pygments_lexer": "ipython3",
   "version": "3.11.5"
  }
 },
 "nbformat": 4,
 "nbformat_minor": 5
}
